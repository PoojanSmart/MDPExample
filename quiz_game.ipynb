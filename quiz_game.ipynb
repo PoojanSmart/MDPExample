{
 "cells": [
  {
   "cell_type": "code",
   "execution_count": 1,
   "id": "d1604d71",
   "metadata": {},
   "outputs": [],
   "source": [
    "import numpy as np"
   ]
  },
  {
   "cell_type": "code",
   "execution_count": 139,
   "id": "3ec9d046",
   "metadata": {},
   "outputs": [],
   "source": [
    "class state:\n",
    "     \n",
    "    def __init__(self, actions, rewards):\n",
    "        self.total_states = 12\n",
    "        self.total_actions = 2 #two actions plays and quits \n",
    "        self.actions = [] #0 for quit , 1 for play\n",
    "        self.rewards = [] #0 for quit , 1 for play\n",
    "\n",
    "        for a in actions:\n",
    "            p = [0 for i in range(self.total_states)]\n",
    "            for st in list(a.keys()):\n",
    "                p[st-1] = a[st]\n",
    "            self.actions.append(p)\n",
    "        for a in rewards:\n",
    "            r = [0 for i in range(self.total_states)]\n",
    "            for st in list(a.keys()):\n",
    "                r[st-1] = a[st]\n",
    "            self.rewards.append(r)"
   ]
  },
  {
   "cell_type": "code",
   "execution_count": 146,
   "id": "d9476f5d",
   "metadata": {},
   "outputs": [],
   "source": [
    "s1 = state([{12:0},{2:0.99,12:0.01}],[{12:0},{2:10,12:0}])\n",
    "s2 = state([{12:1},{3:0.9,12:0.1}],[{12:0},{3:50,12:-10}])\n",
    "s3 = state([{12:1},{4:0.8,12:0.2}],[{12:0},{4:100,12:-60}])\n",
    "s4 = state([{12:1},{5:0.7,12:0.3}],[{12:0},{5:500,12:-160}])\n",
    "s5 = state([{12:1},{6:0.6,12:0.4}],[{12:0},{6:1000,12:-660}])\n",
    "s6 = state([{12:1},{7:0.5,12:0.5}],[{12:0},{7:5000,12:-1660}])\n",
    "s7 = state([{12:1},{8:0.4,12:0.6}],[{12:0},{8:10000,12:-6660}])\n",
    "s8 = state([{12:1},{9:0.3,12:0.7}],[{12:0},{9:50000,12:-16660}])\n",
    "s9 = state([{12:1},{10:0.2,12:0.8}],[{12:0},{10:100000,12:-66660}])\n",
    "s10 = state([{12:1},{11:0.1,12:0.9}],[{12:0},{11:500000,12:-166660}])\n",
    "s11 = state([{12:1}],[{12:0}])"
   ]
  },
  {
   "cell_type": "code",
   "execution_count": 147,
   "id": "c73406f9",
   "metadata": {},
   "outputs": [],
   "source": [
    "states = [s1,s2,s3,s4,s5,s6,s7,s8,s9,s10,s11]"
   ]
  },
  {
   "cell_type": "code",
   "execution_count": 148,
   "id": "fec91d62",
   "metadata": {},
   "outputs": [],
   "source": [
    "V = [0 for i in range(len(states))]"
   ]
  },
  {
   "cell_type": "code",
   "execution_count": 154,
   "id": "b9b22492",
   "metadata": {},
   "outputs": [],
   "source": [
    "Q = [[0 for i in range(2)] for i in range(12)]"
   ]
  },
  {
   "cell_type": "code",
   "execution_count": 179,
   "id": "e5951ebb",
   "metadata": {},
   "outputs": [
    {
     "name": "stdout",
     "output_type": "stream",
     "text": [
      "0.4 10000 [0, 3338.0]\n",
      "0.6 -6660 [0, 0]\n"
     ]
    }
   ],
   "source": [
    "import copy\n",
    "for t in range(1):\n",
    "    Q_prev = copy.deepcopy(Q)\n",
    "    Q = [[0 for i in range(2)] for i in range(12)]\n",
    "    for num_st,st in enumerate(states):\n",
    "        for num_act,act in enumerate(st.actions):\n",
    "            for num_p,p in enumerate(act):\n",
    "                if p>0:\n",
    "                    value = p * (st.rewards[num_act][num_p] + max(Q_prev[num_p]))\n",
    "                    Q[num_st][num_act] += value\n",
    "                    "
   ]
  },
  {
   "cell_type": "code",
   "execution_count": 180,
   "id": "9839f628",
   "metadata": {},
   "outputs": [
    {
     "data": {
      "text/plain": [
       "[[0, 1197.3842496000002],\n",
       " [0, 1199.4790400000002],\n",
       " [0, 1283.8656],\n",
       " [0, 1519.832],\n",
       " [0, 1739.7600000000002],\n",
       " [0, 2339.6000000000004],\n",
       " [0, 1339.2000000000007],\n",
       " [0, 3338.0],\n",
       " [0, -33328.0],\n",
       " [0, -99994.0],\n",
       " [0, 0],\n",
       " [0, 0]]"
      ]
     },
     "execution_count": 180,
     "metadata": {},
     "output_type": "execute_result"
    }
   ],
   "source": [
    "Q"
   ]
  }
 ],
 "metadata": {
  "kernelspec": {
   "display_name": "Python 3",
   "language": "python",
   "name": "python3"
  },
  "language_info": {
   "codemirror_mode": {
    "name": "ipython",
    "version": 3
   },
   "file_extension": ".py",
   "mimetype": "text/x-python",
   "name": "python",
   "nbconvert_exporter": "python",
   "pygments_lexer": "ipython3",
   "version": "3.8.5"
  }
 },
 "nbformat": 4,
 "nbformat_minor": 5
}
